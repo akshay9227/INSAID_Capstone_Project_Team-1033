{
  "nbformat": 4,
  "nbformat_minor": 0,
  "metadata": {
    "kernelspec": {
      "display_name": "Python 3",
      "language": "python",
      "name": "python3"
    },
    "language_info": {
      "codemirror_mode": {
        "name": "ipython",
        "version": 3
      },
      "file_extension": ".py",
      "mimetype": "text/x-python",
      "name": "python",
      "nbconvert_exporter": "python",
      "pygments_lexer": "ipython3",
      "version": "3.7.3"
    },
    "colab": {
      "name": "read_data.ipynb",
      "provenance": [],
      "collapsed_sections": []
    }
  },
  "cells": [
    {
      "cell_type": "markdown",
      "metadata": {
        "id": "8wOHQD8n0XUf",
        "colab_type": "text"
      },
      "source": [
        "# Capstone Project 1 - Connecting to Data"
      ]
    },
    {
      "cell_type": "code",
      "metadata": {
        "ExecuteTime": {
          "end_time": "2020-02-15T15:58:42.548120Z",
          "start_time": "2020-02-15T15:58:41.368235Z"
        },
        "id": "yS8VCr3b0XUi",
        "colab_type": "code",
        "colab": {
          "base_uri": "https://localhost:8080/",
          "height": 219
        },
        "outputId": "764c0f40-2b1b-422c-b6be-97ea19ad0a60"
      },
      "source": [
        "!pip install mysql.connector\n",
        "import mysql.connector as mysql #if it gives error, use: pip install mysql.connector\n",
        "import csv\n",
        "import pandas as pd\n",
        "import numpy as np"
      ],
      "execution_count": 4,
      "outputs": [
        {
          "output_type": "stream",
          "text": [
            "Collecting mysql.connector\n",
            "\u001b[?25l  Downloading https://files.pythonhosted.org/packages/28/04/e40098f3730e75bbe36a338926f566ea803550a34fb50535499f4fc4787a/mysql-connector-2.2.9.tar.gz (11.9MB)\n",
            "\u001b[K     |████████████████████████████████| 11.9MB 12.0MB/s \n",
            "\u001b[?25hBuilding wheels for collected packages: mysql.connector\n",
            "  Building wheel for mysql.connector (setup.py) ... \u001b[?25l\u001b[?25hdone\n",
            "  Created wheel for mysql.connector: filename=mysql_connector-2.2.9-cp36-cp36m-linux_x86_64.whl size=247949 sha256=cfe33c20a938d326749c6af095bf1c26770e80f06ab0150cf05398220202fd7f\n",
            "  Stored in directory: /root/.cache/pip/wheels/8c/83/a1/f8b6d4bb1bd6208bbde1608bbfa7557504bed9eaf2ecf8c175\n",
            "Successfully built mysql.connector\n",
            "Installing collected packages: mysql.connector\n",
            "Successfully installed mysql.connector\n"
          ],
          "name": "stdout"
        }
      ]
    },
    {
      "cell_type": "code",
      "metadata": {
        "ExecuteTime": {
          "end_time": "2020-02-15T15:58:43.448442Z",
          "start_time": "2020-02-15T15:58:42.554017Z"
        },
        "id": "J5cCAkQt0XUn",
        "colab_type": "code",
        "colab": {}
      },
      "source": [
        "#Creating the connection string to connect to INSAID's mysql db\n",
        "\n",
        "dbconnectionstring = mysql.connect(\n",
        "                      host = 'cpanel.insaid.co',\n",
        "                      user = 'student',\n",
        "                      passwd = 'student',\n",
        "                      database = 'Capstone1' )\n",
        "\n",
        "cursor = dbconnectionstring.cursor()"
      ],
      "execution_count": 0,
      "outputs": []
    },
    {
      "cell_type": "code",
      "metadata": {
        "ExecuteTime": {
          "end_time": "2020-02-15T15:58:43.474283Z",
          "start_time": "2020-02-15T15:58:43.456327Z"
        },
        "id": "DkkyN8Lt0XUr",
        "colab_type": "code",
        "colab": {
          "base_uri": "https://localhost:8080/",
          "height": 35
        },
        "outputId": "712b2013-e903-4642-bc46-f80fb1eb0d1d"
      },
      "source": [
        "print(dbconnectionstring)"
      ],
      "execution_count": 6,
      "outputs": [
        {
          "output_type": "stream",
          "text": [
            "<mysql.connector.connection.MySQLConnection object at 0x7f4a609b2eb8>\n"
          ],
          "name": "stdout"
        }
      ]
    },
    {
      "cell_type": "code",
      "metadata": {
        "ExecuteTime": {
          "end_time": "2020-02-15T15:58:43.671489Z",
          "start_time": "2020-02-15T15:58:43.484256Z"
        },
        "id": "Ch-C9PaF0XUv",
        "colab_type": "code",
        "colab": {
          "base_uri": "https://localhost:8080/",
          "height": 72
        },
        "outputId": "c8957002-6397-4a3b-ebd6-b24306eddd6a"
      },
      "source": [
        "# List all tables in the database\n",
        "\n",
        "cursor.execute(\"SHOW TABLES\")\n",
        "tables=cursor.fetchall()\n",
        "for table_name in tables:\n",
        "    print(table_name)"
      ],
      "execution_count": 7,
      "outputs": [
        {
          "output_type": "stream",
          "text": [
            "('events_data',)\n",
            "('gender_age_train',)\n",
            "('phone_brand_device_model',)\n"
          ],
          "name": "stdout"
        }
      ]
    },
    {
      "cell_type": "code",
      "metadata": {
        "ExecuteTime": {
          "end_time": "2020-02-15T15:58:49.571329Z",
          "start_time": "2020-02-15T15:58:43.680586Z"
        },
        "id": "uvSvr6gE0XUz",
        "colab_type": "code",
        "colab": {
          "base_uri": "https://localhost:8080/",
          "height": 145
        },
        "outputId": "d76ade65-f317-4d98-fc49-a5d5e6b4f151"
      },
      "source": [
        "# Table 1 - events_data - Get Column names\n",
        "\n",
        "dbconnectionstring = mysql.connect(\n",
        "                      host = 'cpanel.insaid.co',\n",
        "                      user = 'student',\n",
        "                      passwd = 'student',\n",
        "                      database = 'Capstone1' )\n",
        "\n",
        "cursor = dbconnectionstring.cursor()\n",
        "\n",
        "query = \"show columns from events_data\"\n",
        "cursor.execute(query)\n",
        "result=cursor.fetchall()\n",
        "result"
      ],
      "execution_count": 8,
      "outputs": [
        {
          "output_type": "execute_result",
          "data": {
            "text/plain": [
              "[('event_id', 'bigint(20)', 'NO', '', None, ''),\n",
              " ('device_id', 'bigint(255)', 'YES', '', None, ''),\n",
              " ('timestamp', 'datetime', 'NO', '', None, ''),\n",
              " ('longitude', 'float(8,6)', 'YES', '', None, ''),\n",
              " ('latitude', 'float(8,6)', 'YES', '', None, ''),\n",
              " ('city', 'varchar(50)', 'NO', '', None, ''),\n",
              " ('state', 'varchar(50)', 'NO', '', None, '')]"
            ]
          },
          "metadata": {
            "tags": []
          },
          "execution_count": 8
        }
      ]
    },
    {
      "cell_type": "code",
      "metadata": {
        "ExecuteTime": {
          "end_time": "2020-02-15T15:58:50.541204Z",
          "start_time": "2020-02-15T15:58:49.578264Z"
        },
        "id": "e5aFtqzp0XU2",
        "colab_type": "code",
        "colab": {
          "base_uri": "https://localhost:8080/",
          "height": 90
        },
        "outputId": "8bcac797-bf4c-4a4f-b7c3-71ac12481432"
      },
      "source": [
        "# Table 2 - gender_age_train - Get Column names\n",
        "\n",
        "dbconnectionstring = mysql.connect(\n",
        "                      host = 'cpanel.insaid.co',\n",
        "                      user = 'student',\n",
        "                      passwd = 'student',\n",
        "                      database = 'Capstone1' )\n",
        "\n",
        "cursor = dbconnectionstring.cursor()\n",
        "\n",
        "query = \"show columns from gender_age_train\"\n",
        "cursor.execute(query)\n",
        "result=cursor.fetchall()\n",
        "result"
      ],
      "execution_count": 9,
      "outputs": [
        {
          "output_type": "execute_result",
          "data": {
            "text/plain": [
              "[('device_id', 'bigint(255)', 'NO', '', None, ''),\n",
              " ('gender', 'varchar(2555)', 'NO', '', None, ''),\n",
              " ('age', 'int(255)', 'NO', '', None, ''),\n",
              " ('group', 'varchar(2555)', 'NO', '', None, '')]"
            ]
          },
          "metadata": {
            "tags": []
          },
          "execution_count": 9
        }
      ]
    },
    {
      "cell_type": "code",
      "metadata": {
        "ExecuteTime": {
          "end_time": "2020-02-15T15:58:51.399110Z",
          "start_time": "2020-02-15T15:58:50.549151Z"
        },
        "id": "08sU5PWk0XU7",
        "colab_type": "code",
        "colab": {
          "base_uri": "https://localhost:8080/",
          "height": 72
        },
        "outputId": "439fe2b3-92ab-4f29-a931-1fc9ce6d810d"
      },
      "source": [
        "# Table 3 - phone_brand_device_model - Get Column names\n",
        "\n",
        "dbconnectionstring = mysql.connect(\n",
        "                      host = 'cpanel.insaid.co',\n",
        "                      user = 'student',\n",
        "                      passwd = 'student',\n",
        "                      database = 'Capstone1' )\n",
        "\n",
        "cursor = dbconnectionstring.cursor()\n",
        "\n",
        "query = \"show columns from phone_brand_device_model\"\n",
        "cursor.execute(query)\n",
        "result=cursor.fetchall()\n",
        "result"
      ],
      "execution_count": 10,
      "outputs": [
        {
          "output_type": "execute_result",
          "data": {
            "text/plain": [
              "[('device_id', 'bigint(255)', 'NO', '', None, ''),\n",
              " ('phone_brand', 'varchar(2555)', 'NO', '', None, ''),\n",
              " ('device_model', 'varchar(2555)', 'NO', '', None, '')]"
            ]
          },
          "metadata": {
            "tags": []
          },
          "execution_count": 10
        }
      ]
    },
    {
      "cell_type": "code",
      "metadata": {
        "ExecuteTime": {
          "end_time": "2020-02-15T15:58:57.747706Z",
          "start_time": "2020-02-15T15:58:51.411879Z"
        },
        "id": "gDPpGGX90XU_",
        "colab_type": "code",
        "colab": {
          "base_uri": "https://localhost:8080/",
          "height": 35
        },
        "outputId": "1edafe19-f75f-42a1-c896-78be3774efbe"
      },
      "source": [
        "dbconnectionstring = mysql.connect(\n",
        "                      host = 'cpanel.insaid.co',\n",
        "                      user = 'student',\n",
        "                      passwd = 'student',\n",
        "                      database = 'Capstone1' )\n",
        "\n",
        "cursor = dbconnectionstring.cursor()\n",
        "\n",
        "query = \"select count(*) from phone_brand_device_model\"\n",
        "cursor.execute(query)\n",
        "pcount = cursor.fetchall()\n",
        "pcount\n"
      ],
      "execution_count": 11,
      "outputs": [
        {
          "output_type": "execute_result",
          "data": {
            "text/plain": [
              "[(87726,)]"
            ]
          },
          "metadata": {
            "tags": []
          },
          "execution_count": 11
        }
      ]
    },
    {
      "cell_type": "code",
      "metadata": {
        "ExecuteTime": {
          "end_time": "2020-02-15T15:59:03.770049Z",
          "start_time": "2020-02-15T15:58:57.758670Z"
        },
        "id": "38jipK3J0XVF",
        "colab_type": "code",
        "colab": {
          "base_uri": "https://localhost:8080/",
          "height": 35
        },
        "outputId": "dff55a57-af9e-4036-e4af-1e428bf459ee"
      },
      "source": [
        "dbconnectionstring = mysql.connect(\n",
        "                      host = 'cpanel.insaid.co',\n",
        "                      user = 'student',\n",
        "                      passwd = 'student',\n",
        "                      database = 'Capstone1' )\n",
        "\n",
        "cursor = dbconnectionstring.cursor()\n",
        "\n",
        "query = \"select count(*) from gender_age_train\"\n",
        "cursor.execute(query)\n",
        "pcount = cursor.fetchall()\n",
        "pcount\n"
      ],
      "execution_count": 12,
      "outputs": [
        {
          "output_type": "execute_result",
          "data": {
            "text/plain": [
              "[(74645,)]"
            ]
          },
          "metadata": {
            "tags": []
          },
          "execution_count": 12
        }
      ]
    },
    {
      "cell_type": "markdown",
      "metadata": {
        "id": "njo7oYt50XVK",
        "colab_type": "text"
      },
      "source": [
        "Query"
      ]
    },
    {
      "cell_type": "code",
      "metadata": {
        "ExecuteTime": {
          "end_time": "2020-02-15T16:10:11.273987Z",
          "start_time": "2020-02-15T16:09:48.367435Z"
        },
        "id": "P5xFsUzl0XVL",
        "colab_type": "code",
        "colab": {}
      },
      "source": [
        "# Get all records for the concerned States from events_data\n",
        "\n",
        "if dbconnectionstring.is_connected():\n",
        "    dbconnectionstring.close()\n",
        "    \n",
        "dbconnectionstring = mysql.connect(\n",
        "                      host = 'cpanel.insaid.co',\n",
        "                      user = 'student',\n",
        "                      passwd = 'student',\n",
        "                      database = 'Capstone1' )\n",
        "\n",
        "cursor = dbconnectionstring.cursor()\n",
        "\n",
        "query = '''select *\n",
        "             from events_data as ed\n",
        "            where state in ('MadhyaPradesh', 'Goa', 'Chhattisgarh','Uttaranchal', 'JammuandKashmir', 'Nagaland')'''\n",
        "cursor.execute(query)\n",
        "events_data=cursor.fetchall()\n",
        "ds_events_data= pd.DataFrame(events_data)\n",
        "ds_events_data.columns=[i[0] for i in cursor.description]"
      ],
      "execution_count": 0,
      "outputs": []
    },
    {
      "cell_type": "code",
      "metadata": {
        "ExecuteTime": {
          "end_time": "2020-02-15T16:10:35.312291Z",
          "start_time": "2020-02-15T16:10:35.276386Z"
        },
        "id": "Urai4XKO0XVP",
        "colab_type": "code",
        "colab": {
          "base_uri": "https://localhost:8080/",
          "height": 198
        },
        "outputId": "d8466fbf-b3e6-4ef0-a0a5-ca4e4e6f2a24"
      },
      "source": [
        "ds_events_data.head()"
      ],
      "execution_count": 27,
      "outputs": [
        {
          "output_type": "execute_result",
          "data": {
            "text/html": [
              "<div>\n",
              "<style scoped>\n",
              "    .dataframe tbody tr th:only-of-type {\n",
              "        vertical-align: middle;\n",
              "    }\n",
              "\n",
              "    .dataframe tbody tr th {\n",
              "        vertical-align: top;\n",
              "    }\n",
              "\n",
              "    .dataframe thead th {\n",
              "        text-align: right;\n",
              "    }\n",
              "</style>\n",
              "<table border=\"1\" class=\"dataframe\">\n",
              "  <thead>\n",
              "    <tr style=\"text-align: right;\">\n",
              "      <th></th>\n",
              "      <th>event_id</th>\n",
              "      <th>device_id</th>\n",
              "      <th>timestamp</th>\n",
              "      <th>longitude</th>\n",
              "      <th>latitude</th>\n",
              "      <th>city</th>\n",
              "      <th>state</th>\n",
              "    </tr>\n",
              "  </thead>\n",
              "  <tbody>\n",
              "    <tr>\n",
              "      <th>0</th>\n",
              "      <td>10117</td>\n",
              "      <td>-5.323073e+18</td>\n",
              "      <td>2016-05-01 11:11:24</td>\n",
              "      <td>75.939545</td>\n",
              "      <td>22.769171</td>\n",
              "      <td>Indore</td>\n",
              "      <td>MadhyaPradesh</td>\n",
              "    </tr>\n",
              "    <tr>\n",
              "      <th>1</th>\n",
              "      <td>112369</td>\n",
              "      <td>-5.323073e+18</td>\n",
              "      <td>2016-05-04 22:47:19</td>\n",
              "      <td>75.939545</td>\n",
              "      <td>22.769171</td>\n",
              "      <td>Indore</td>\n",
              "      <td>MadhyaPradesh</td>\n",
              "    </tr>\n",
              "    <tr>\n",
              "      <th>2</th>\n",
              "      <td>139098</td>\n",
              "      <td>-5.323073e+18</td>\n",
              "      <td>2016-05-01 09:55:58</td>\n",
              "      <td>75.939545</td>\n",
              "      <td>22.769171</td>\n",
              "      <td>Indore</td>\n",
              "      <td>MadhyaPradesh</td>\n",
              "    </tr>\n",
              "    <tr>\n",
              "      <th>3</th>\n",
              "      <td>190983</td>\n",
              "      <td>-5.323073e+18</td>\n",
              "      <td>2016-05-04 22:51:03</td>\n",
              "      <td>75.939545</td>\n",
              "      <td>22.769171</td>\n",
              "      <td>Indore</td>\n",
              "      <td>MadhyaPradesh</td>\n",
              "    </tr>\n",
              "    <tr>\n",
              "      <th>4</th>\n",
              "      <td>249507</td>\n",
              "      <td>-5.323073e+18</td>\n",
              "      <td>2016-05-01 11:24:12</td>\n",
              "      <td>75.939545</td>\n",
              "      <td>22.769171</td>\n",
              "      <td>Indore</td>\n",
              "      <td>MadhyaPradesh</td>\n",
              "    </tr>\n",
              "  </tbody>\n",
              "</table>\n",
              "</div>"
            ],
            "text/plain": [
              "   event_id     device_id           timestamp  ...   latitude    city          state\n",
              "0     10117 -5.323073e+18 2016-05-01 11:11:24  ...  22.769171  Indore  MadhyaPradesh\n",
              "1    112369 -5.323073e+18 2016-05-04 22:47:19  ...  22.769171  Indore  MadhyaPradesh\n",
              "2    139098 -5.323073e+18 2016-05-01 09:55:58  ...  22.769171  Indore  MadhyaPradesh\n",
              "3    190983 -5.323073e+18 2016-05-04 22:51:03  ...  22.769171  Indore  MadhyaPradesh\n",
              "4    249507 -5.323073e+18 2016-05-01 11:24:12  ...  22.769171  Indore  MadhyaPradesh\n",
              "\n",
              "[5 rows x 7 columns]"
            ]
          },
          "metadata": {
            "tags": []
          },
          "execution_count": 27
        }
      ]
    },
    {
      "cell_type": "code",
      "metadata": {
        "ExecuteTime": {
          "end_time": "2020-02-15T16:10:40.668516Z",
          "start_time": "2020-02-15T16:10:40.639701Z"
        },
        "id": "SjvjREfb0XVS",
        "colab_type": "code",
        "colab": {
          "base_uri": "https://localhost:8080/",
          "height": 35
        },
        "outputId": "c2b4ecf3-4b93-4468-8527-53a55050f4bd"
      },
      "source": [
        "# Create a unique list of device ids from event data, to download only those records from the other 2 tables.\n",
        "\n",
        "device_ids = ds_events_data['device_id'].unique()    # Extracts unique device ids\n",
        "dids=device_ids.tolist()                           # Converts nparray to list\n",
        "list_of_ids = [x for x in dids if str(x) != 'nan'] # Drop all 'nan' ids\n",
        "len(list_of_ids)                                   # list the number of ids."
      ],
      "execution_count": 28,
      "outputs": [
        {
          "output_type": "execute_result",
          "data": {
            "text/plain": [
              "4297"
            ]
          },
          "metadata": {
            "tags": []
          },
          "execution_count": 28
        }
      ]
    },
    {
      "cell_type": "code",
      "metadata": {
        "ExecuteTime": {
          "end_time": "2020-02-15T16:12:49.213977Z",
          "start_time": "2020-02-15T16:12:32.676494Z"
        },
        "id": "9kgUyf2V0XVV",
        "colab_type": "code",
        "colab": {}
      },
      "source": [
        "# Download the records from phone_brand_device_model\n",
        "\n",
        "if dbconnectionstring.is_connected():\n",
        "    dbconnectionstring.close()\n",
        "    \n",
        "dbconnectionstring = mysql.connect(                     # Connection string used again, since it keeps disconnecting, so \n",
        "                      host = 'cpanel.insaid.co',        # executing this again, before every select statements.\n",
        "                      user = 'student',\n",
        "                      passwd = 'student',\n",
        "                      database = 'Capstone1' )\n",
        "\n",
        "cursor = dbconnectionstring.cursor()\n",
        "\n",
        "format_strings = ','.join(['%s'] * len(list_of_ids))   # This needs to be added to pass the ids. if we have 5 ids, then it \n",
        "                                                       # will create 5, %s, positional parameters.\n",
        "\n",
        "query = '''select * \n",
        "             from phone_brand_device_model\n",
        "            where device_id in ( %s )''' % format_strings\n",
        "\n",
        "cursor.execute(query, tuple(list_of_ids))\n",
        "phone_data=cursor.fetchall()\n",
        "ds_phone_data = pd.DataFrame(phone_data)\n",
        "ds_phone_data.columns=[i[0] for i in cursor.description]"
      ],
      "execution_count": 0,
      "outputs": []
    },
    {
      "cell_type": "code",
      "metadata": {
        "ExecuteTime": {
          "end_time": "2020-02-15T16:12:53.401070Z",
          "start_time": "2020-02-15T16:12:53.386110Z"
        },
        "id": "m4-iPKEu0XVY",
        "colab_type": "code",
        "colab": {
          "base_uri": "https://localhost:8080/",
          "height": 198
        },
        "outputId": "28428a25-6cf3-418d-f435-0ebaa880b351"
      },
      "source": [
        "ds_phone_data.head()"
      ],
      "execution_count": 40,
      "outputs": [
        {
          "output_type": "execute_result",
          "data": {
            "text/html": [
              "<div>\n",
              "<style scoped>\n",
              "    .dataframe tbody tr th:only-of-type {\n",
              "        vertical-align: middle;\n",
              "    }\n",
              "\n",
              "    .dataframe tbody tr th {\n",
              "        vertical-align: top;\n",
              "    }\n",
              "\n",
              "    .dataframe thead th {\n",
              "        text-align: right;\n",
              "    }\n",
              "</style>\n",
              "<table border=\"1\" class=\"dataframe\">\n",
              "  <thead>\n",
              "    <tr style=\"text-align: right;\">\n",
              "      <th></th>\n",
              "      <th>device_id</th>\n",
              "      <th>phone_brand</th>\n",
              "      <th>device_model</th>\n",
              "    </tr>\n",
              "  </thead>\n",
              "  <tbody>\n",
              "    <tr>\n",
              "      <th>0</th>\n",
              "      <td>2313145512701915151</td>\n",
              "      <td>vivo</td>\n",
              "      <td>Xplay</td>\n",
              "    </tr>\n",
              "    <tr>\n",
              "      <th>1</th>\n",
              "      <td>-1539979963116391306</td>\n",
              "      <td>Xiaomi</td>\n",
              "      <td>GN708W</td>\n",
              "    </tr>\n",
              "    <tr>\n",
              "      <th>2</th>\n",
              "      <td>-7731743086143077949</td>\n",
              "      <td>Xiaomi</td>\n",
              "      <td>红米</td>\n",
              "    </tr>\n",
              "    <tr>\n",
              "      <th>3</th>\n",
              "      <td>-4370696809239943432</td>\n",
              "      <td>Xiaomi</td>\n",
              "      <td>MI 2S</td>\n",
              "    </tr>\n",
              "    <tr>\n",
              "      <th>4</th>\n",
              "      <td>2959524852145775517</td>\n",
              "      <td>Samsung</td>\n",
              "      <td>A850</td>\n",
              "    </tr>\n",
              "  </tbody>\n",
              "</table>\n",
              "</div>"
            ],
            "text/plain": [
              "             device_id phone_brand device_model\n",
              "0  2313145512701915151        vivo        Xplay\n",
              "1 -1539979963116391306      Xiaomi       GN708W\n",
              "2 -7731743086143077949      Xiaomi           红米\n",
              "3 -4370696809239943432      Xiaomi        MI 2S\n",
              "4  2959524852145775517     Samsung         A850"
            ]
          },
          "metadata": {
            "tags": []
          },
          "execution_count": 40
        }
      ]
    },
    {
      "cell_type": "code",
      "metadata": {
        "ExecuteTime": {
          "end_time": "2020-02-15T16:12:57.908908Z",
          "start_time": "2020-02-15T16:12:57.902926Z"
        },
        "id": "4ioQmcMH0XVc",
        "colab_type": "code",
        "colab": {
          "base_uri": "https://localhost:8080/",
          "height": 35
        },
        "outputId": "35cac415-4d46-4d60-cf63-22d785a91eea"
      },
      "source": [
        "len(list_of_ids)"
      ],
      "execution_count": 20,
      "outputs": [
        {
          "output_type": "execute_result",
          "data": {
            "text/plain": [
              "4297"
            ]
          },
          "metadata": {
            "tags": []
          },
          "execution_count": 20
        }
      ]
    },
    {
      "cell_type": "code",
      "metadata": {
        "ExecuteTime": {
          "end_time": "2020-02-15T16:24:19.840126Z",
          "start_time": "2020-02-15T16:24:10.233217Z"
        },
        "id": "nv5jsUB30XVg",
        "colab_type": "code",
        "colab": {}
      },
      "source": [
        "# Download the records from gender_age_train\n",
        "\n",
        "if dbconnectionstring.is_connected():\n",
        "    dbconnectionstring.close()\n",
        "    \n",
        "dbconnectionstring = mysql.connect(\n",
        "                      host = 'cpanel.insaid.co',\n",
        "                      user = 'student',\n",
        "                      passwd = 'student',\n",
        "                      database = 'Capstone1' )\n",
        "\n",
        "cursor = dbconnectionstring.cursor()\n",
        "\n",
        "format_strings = ','.join(['%s'] * len(list_of_ids))\n",
        "\n",
        "#list_ids = tuple(','.join(['%s'] * len(ldevice_ids)))\n",
        "\n",
        "query = '''select * \n",
        "             from gender_age_train\n",
        "            where device_id in ( %s )''' % format_strings\n",
        "\n",
        "cursor.execute(query,tuple(list_of_ids))\n",
        "user_data=cursor.fetchall()\n",
        "ds_user_data = pd.DataFrame(user_data)\n",
        "ds_user_data.columns=[i[0] for i in cursor.description]"
      ],
      "execution_count": 0,
      "outputs": []
    },
    {
      "cell_type": "code",
      "metadata": {
        "ExecuteTime": {
          "end_time": "2020-02-15T16:24:25.913143Z",
          "start_time": "2020-02-15T16:24:25.895043Z"
        },
        "id": "v7dSgbf70XVj",
        "colab_type": "code",
        "colab": {
          "base_uri": "https://localhost:8080/",
          "height": 198
        },
        "outputId": "55310006-4b05-45f3-c525-1987dc2cd391"
      },
      "source": [
        "ds_user_data.head()"
      ],
      "execution_count": 24,
      "outputs": [
        {
          "output_type": "execute_result",
          "data": {
            "text/html": [
              "<div>\n",
              "<style scoped>\n",
              "    .dataframe tbody tr th:only-of-type {\n",
              "        vertical-align: middle;\n",
              "    }\n",
              "\n",
              "    .dataframe tbody tr th {\n",
              "        vertical-align: top;\n",
              "    }\n",
              "\n",
              "    .dataframe thead th {\n",
              "        text-align: right;\n",
              "    }\n",
              "</style>\n",
              "<table border=\"1\" class=\"dataframe\">\n",
              "  <thead>\n",
              "    <tr style=\"text-align: right;\">\n",
              "      <th></th>\n",
              "      <th>device_id</th>\n",
              "      <th>gender</th>\n",
              "      <th>age</th>\n",
              "      <th>group</th>\n",
              "    </tr>\n",
              "  </thead>\n",
              "  <tbody>\n",
              "    <tr>\n",
              "      <th>0</th>\n",
              "      <td>2313145512701915151</td>\n",
              "      <td>M</td>\n",
              "      <td>34</td>\n",
              "      <td>M32-38</td>\n",
              "    </tr>\n",
              "    <tr>\n",
              "      <th>1</th>\n",
              "      <td>-1539979963116391306</td>\n",
              "      <td>M</td>\n",
              "      <td>31</td>\n",
              "      <td>M29-31</td>\n",
              "    </tr>\n",
              "    <tr>\n",
              "      <th>2</th>\n",
              "      <td>-7731743086143077949</td>\n",
              "      <td>M</td>\n",
              "      <td>35</td>\n",
              "      <td>M32-38</td>\n",
              "    </tr>\n",
              "    <tr>\n",
              "      <th>3</th>\n",
              "      <td>-4370696809239943432</td>\n",
              "      <td>M</td>\n",
              "      <td>36</td>\n",
              "      <td>M32-38</td>\n",
              "    </tr>\n",
              "    <tr>\n",
              "      <th>4</th>\n",
              "      <td>2959524852145775517</td>\n",
              "      <td>M</td>\n",
              "      <td>30</td>\n",
              "      <td>M29-31</td>\n",
              "    </tr>\n",
              "  </tbody>\n",
              "</table>\n",
              "</div>"
            ],
            "text/plain": [
              "             device_id gender  age   group\n",
              "0  2313145512701915151      M   34  M32-38\n",
              "1 -1539979963116391306      M   31  M29-31\n",
              "2 -7731743086143077949      M   35  M32-38\n",
              "3 -4370696809239943432      M   36  M32-38\n",
              "4  2959524852145775517      M   30  M29-31"
            ]
          },
          "metadata": {
            "tags": []
          },
          "execution_count": 24
        }
      ]
    },
    {
      "cell_type": "code",
      "metadata": {
        "id": "tv-31CmtE4Wq",
        "colab_type": "code",
        "colab": {}
      },
      "source": [
        "ds_phone_data.replace('小米','Xiaomi',inplace=True)\n",
        "ds_phone_data.replace('华为','Huawei',inplace=True)\n",
        "ds_phone_data.replace('三星','Samsung',inplace=True)\n",
        "ds_phone_data.replace('魅族','Meizu',inplace=True)\n",
        "ds_phone_data.replace('乐视','LeEco',inplace=True)\n",
        "ds_phone_data.replace('酷派','Coolpad',inplace=True)\n",
        "ds_phone_data.replace('联想 ','Lenovo',inplace=True)\n",
        "ds_phone_data.replace('联想','Lenovo',inplace=True)"
      ],
      "execution_count": 0,
      "outputs": []
    },
    {
      "cell_type": "code",
      "metadata": {
        "ExecuteTime": {
          "end_time": "2020-02-15T16:24:30.528183Z",
          "start_time": "2020-02-15T16:24:30.510824Z"
        },
        "id": "nhoW9j8h0XVn",
        "colab_type": "code",
        "colab": {}
      },
      "source": [
        "# Write all records from the data, to excel files\n",
        "\n",
        "ds_events_data.to_excel('events_data.xlsx')\n",
        "ds_phone_data.to_excel('phone_data.xlsx')\n",
        "ds_user_data.to_excel('user_data.xlsx')"
      ],
      "execution_count": 0,
      "outputs": []
    },
    {
      "cell_type": "code",
      "metadata": {
        "id": "sBRTQreM891b",
        "colab_type": "code",
        "colab": {}
      },
      "source": [
        "import pandas_profiling"
      ],
      "execution_count": 0,
      "outputs": []
    },
    {
      "cell_type": "code",
      "metadata": {
        "id": "v9637FK_9EWU",
        "colab_type": "code",
        "colab": {
          "base_uri": "https://localhost:8080/",
          "height": 235
        },
        "outputId": "972fc542-9d69-40e3-ca10-420c5dcb2bf0"
      },
      "source": [
        "ds_events_data.info()"
      ],
      "execution_count": 31,
      "outputs": [
        {
          "output_type": "stream",
          "text": [
            "<class 'pandas.core.frame.DataFrame'>\n",
            "RangeIndex: 261097 entries, 0 to 261096\n",
            "Data columns (total 7 columns):\n",
            "event_id     261097 non-null int64\n",
            "device_id    261046 non-null float64\n",
            "timestamp    261097 non-null datetime64[ns]\n",
            "longitude    261034 non-null float64\n",
            "latitude     261034 non-null float64\n",
            "city         261097 non-null object\n",
            "state        261097 non-null object\n",
            "dtypes: datetime64[ns](1), float64(3), int64(1), object(2)\n",
            "memory usage: 13.9+ MB\n"
          ],
          "name": "stdout"
        }
      ]
    },
    {
      "cell_type": "code",
      "metadata": {
        "id": "vQNf6V6f9Pqz",
        "colab_type": "code",
        "colab": {
          "base_uri": "https://localhost:8080/",
          "height": 163
        },
        "outputId": "a0692265-0f8d-4437-cb85-35441a61d572"
      },
      "source": [
        "ds_phone_data.info()"
      ],
      "execution_count": 32,
      "outputs": [
        {
          "output_type": "stream",
          "text": [
            "<class 'pandas.core.frame.DataFrame'>\n",
            "RangeIndex: 4297 entries, 0 to 4296\n",
            "Data columns (total 3 columns):\n",
            "device_id       4297 non-null int64\n",
            "phone_brand     4297 non-null object\n",
            "device_model    4297 non-null object\n",
            "dtypes: int64(1), object(2)\n",
            "memory usage: 100.8+ KB\n"
          ],
          "name": "stdout"
        }
      ]
    },
    {
      "cell_type": "code",
      "metadata": {
        "id": "r2-suf7x9Uom",
        "colab_type": "code",
        "colab": {
          "base_uri": "https://localhost:8080/",
          "height": 181
        },
        "outputId": "b399f925-7875-4d22-bfd2-99fbd3a5428b"
      },
      "source": [
        "ds_user_data.info()"
      ],
      "execution_count": 33,
      "outputs": [
        {
          "output_type": "stream",
          "text": [
            "<class 'pandas.core.frame.DataFrame'>\n",
            "RangeIndex: 4297 entries, 0 to 4296\n",
            "Data columns (total 4 columns):\n",
            "device_id    4297 non-null int64\n",
            "gender       4297 non-null object\n",
            "age          4297 non-null int64\n",
            "group        4297 non-null object\n",
            "dtypes: int64(2), object(2)\n",
            "memory usage: 134.4+ KB\n"
          ],
          "name": "stdout"
        }
      ]
    },
    {
      "cell_type": "markdown",
      "metadata": {
        "id": "gLHdQY0K9cgE",
        "colab_type": "text"
      },
      "source": [
        "**Good News is all out three datasets dont have any null values.**\n"
      ]
    },
    {
      "cell_type": "markdown",
      "metadata": {
        "id": "mJNXzc819487",
        "colab_type": "text"
      },
      "source": [
        "**Now we will do some panda pre-profiling on our datasets**"
      ]
    },
    {
      "cell_type": "code",
      "metadata": {
        "id": "oZRQDvb0-ISO",
        "colab_type": "code",
        "colab": {
          "base_uri": "https://localhost:8080/",
          "height": 74
        },
        "outputId": "a3a078fd-2d66-4bce-be2c-aa140ca122b9"
      },
      "source": [
        "profile=pandas_profiling.ProfileReport(ds_events_data)\n",
        "profile.to_file(outputfile=\"Events_data_before_preprocessing.html\")"
      ],
      "execution_count": 35,
      "outputs": [
        {
          "output_type": "stream",
          "text": [
            "/usr/local/lib/python3.6/dist-packages/pandas_profiling/describe.py:392: FutureWarning: The join_axes-keyword is deprecated. Use .reindex or .reindex_like on the result to achieve the same functionality.\n",
            "  variable_stats = pd.concat(ldesc, join_axes=pd.Index([names]), axis=1)\n"
          ],
          "name": "stderr"
        }
      ]
    },
    {
      "cell_type": "markdown",
      "metadata": {
        "id": "qHlKCvRWDMfI",
        "colab_type": "text"
      },
      "source": [
        "Below are the findings from event data after running profiling.\n",
        "\n",
        "\n",
        "1.   Maximum events were generated in Indore city\n",
        "2.   Maximum events, state-wise were generated in Madhya Pradesh\n",
        "3. Our dataset covers 85 distinct cities.\n",
        "\n"
      ]
    },
    {
      "cell_type": "code",
      "metadata": {
        "id": "yR07mhwzD0Xz",
        "colab_type": "code",
        "colab": {
          "base_uri": "https://localhost:8080/",
          "height": 74
        },
        "outputId": "5592a1e9-3a2c-42d3-d625-72e8b29ccfbf"
      },
      "source": [
        "profile=pandas_profiling.ProfileReport(ds_phone_data)\n",
        "profile.to_file(outputfile=\"Phone_data_before_preprocessing.html\")"
      ],
      "execution_count": 45,
      "outputs": [
        {
          "output_type": "stream",
          "text": [
            "/usr/local/lib/python3.6/dist-packages/pandas_profiling/describe.py:392: FutureWarning: The join_axes-keyword is deprecated. Use .reindex or .reindex_like on the result to achieve the same functionality.\n",
            "  variable_stats = pd.concat(ldesc, join_axes=pd.Index([names]), axis=1)\n"
          ],
          "name": "stderr"
        }
      ]
    },
    {
      "cell_type": "markdown",
      "metadata": {
        "id": "N5UFTz3cLDZX",
        "colab_type": "text"
      },
      "source": [
        "Below are the findings from phone data after running profiling.\n",
        "\n",
        "\n",
        "1.   Some of the phone brands still have name in foreign language.\n",
        "2.   Some of the device model are also in foreign language.\n",
        "3. There are 60 total phone brands with 676 device models"
      ]
    },
    {
      "cell_type": "code",
      "metadata": {
        "id": "drNOxvhYL2Ck",
        "colab_type": "code",
        "colab": {
          "base_uri": "https://localhost:8080/",
          "height": 74
        },
        "outputId": "d5dda349-8267-49ee-d23b-f819a7a109c0"
      },
      "source": [
        "profile=pandas_profiling.ProfileReport(ds_user_data)\n",
        "profile.to_file(outputfile=\"User_data_before_preprocessing.html\")"
      ],
      "execution_count": 46,
      "outputs": [
        {
          "output_type": "stream",
          "text": [
            "/usr/local/lib/python3.6/dist-packages/pandas_profiling/describe.py:392: FutureWarning: The join_axes-keyword is deprecated. Use .reindex or .reindex_like on the result to achieve the same functionality.\n",
            "  variable_stats = pd.concat(ldesc, join_axes=pd.Index([names]), axis=1)\n"
          ],
          "name": "stderr"
        }
      ]
    },
    {
      "cell_type": "markdown",
      "metadata": {
        "id": "vvwGFgesOiL7",
        "colab_type": "text"
      },
      "source": [
        "Below are the findings from phone data after running profiling.\n",
        "\n",
        "\n",
        "1.   There are 2702 Males and 1595 females.\n",
        "2.   The age distribution is slightly left skewed with our youngest cunstomer being 6 years old and oldest bein 90 years old.\n"
      ]
    },
    {
      "cell_type": "code",
      "metadata": {
        "id": "DBKsIQktPN7g",
        "colab_type": "code",
        "colab": {}
      },
      "source": [
        "from google.colab import drive\n",
        "drive.mount('/content/drive')"
      ],
      "execution_count": 0,
      "outputs": []
    }
  ]
}